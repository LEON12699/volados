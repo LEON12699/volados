{
 "cells": [
  {
   "cell_type": "markdown",
   "metadata": {},
   "source": [
    "## Juego Cara-Sello\n",
    "### UNIVERSIDA NACIONAL DE LOJA\n",
    "#### Por : israel Leon\n",
    "#### Curso : 6to A "
   ]
  },
  {
   "cell_type": "code",
   "execution_count": 64,
   "metadata": {},
   "outputs": [],
   "source": [
    "# Para nuestro ejemplo 0= Cara y 1 = Sello\n",
    "#JUAN = ELIGE CARA Y PEDRO = ELIGE SELLO siempre\n",
    "import numpy as np\n",
    "import pandas as pd\n",
    "import matplotlib.pyplot as plt\n",
    "\n"
   ]
  },
  {
   "cell_type": "code",
   "execution_count": 65,
   "metadata": {},
   "outputs": [],
   "source": [
    "# contantes \n",
    "poblacion_50=50\n",
    "poblacion_100=100\n",
    "poblacion_150=150"
   ]
  },
  {
   "cell_type": "code",
   "execution_count": 66,
   "metadata": {},
   "outputs": [],
   "source": [
    "\n",
    "#Eleccion de tres tiros de forma aletoria uniforme\n",
    "#p es un arreglo de tamaño 2 que representa la probabilidad de que salga 0,1\n",
    "#retorna un arreglo de los 3 tiros\n",
    "\n",
    "def samples(p):\n",
    "    return np.random.choice(2,3,p=p)"
   ]
  },
  {
   "cell_type": "code",
   "execution_count": 67,
   "metadata": {},
   "outputs": [],
   "source": [
    "\n",
    "# tiros == es un np_array de los tres tiros muestra\n",
    "# devuelve el signo gaandor , se gana con 2 de 3  \n",
    "def gana(tiros):\n",
    "    if (np.sum(tiros==0))>=2:\n",
    "        return 0\n",
    "    else:\n",
    "        return 1"
   ]
  },
  {
   "cell_type": "code",
   "execution_count": 68,
   "metadata": {},
   "outputs": [],
   "source": [
    "# data con repeticiones del juego entero\n",
    "# n es la poblacion o el numero de repeticiones\n",
    "def numero_juegos(n,p=[0.5,0.5]):\n",
    "    data=[]\n",
    "    for i in range(n):\n",
    "        sample = samples(p)\n",
    "        ganador= gana(sample)\n",
    "        example=np.append(sample,ganador)\n",
    "        data.append(example)\n",
    "    \n",
    "    return pd.DataFrame(data=data,\n",
    "                       columns=[\"tratado1\",\"tratado2\",\"tratado3\",\"gana\"])"
   ]
  },
  {
   "cell_type": "code",
   "execution_count": 69,
   "metadata": {},
   "outputs": [],
   "source": [
    "#cuenta las veces que salio cara y sello por cada tratamiento\n",
    "def contar(poblacion,df):\n",
    "    sello_t1= df[\"tratado1\"].sum()\n",
    "    sello_t2= df[\"tratado2\"].sum()\n",
    "    sello_t3= df[\"tratado3\"].sum()\n",
    "    data=[[sello_t1,sello_t2,sello_t3],\n",
    "          [poblacion-sello_t1,poblacion-sello_t2,poblacion-sello_t3]\n",
    "         ]\n",
    "    return pd.DataFrame(data=data,columns=[\"tratado1\",\"tratado2\",\"tratado3\"],index=[\"sello\",\"cara\"])"
   ]
  },
  {
   "cell_type": "markdown",
   "metadata": {},
   "source": [
    "## Generacion de datos "
   ]
  },
  {
   "cell_type": "code",
   "execution_count": 70,
   "metadata": {},
   "outputs": [],
   "source": [
    "#data frame uniformes\n",
    "datos_uni50 = numero_juegos(poblacion_50)\n",
    "datos_uni100=numero_juegos(poblacion_100)\n",
    "datos_uni150=numero_juegos(poblacion_150)\n",
    "\n",
    "\n",
    "#data frame con probabilidad 70-30\n",
    "probabilidad=[0.7,0.3] # 70%porciento a cara, 30% a sello\n",
    "datos50 = numero_juegos(poblacion_50,probabilidad)\n",
    "datos100=numero_juegos(poblacion_100,probabilidad)\n",
    "datos150=numero_juegos(poblacion_150,probabilidad)\n",
    "\n"
   ]
  },
  {
   "cell_type": "markdown",
   "metadata": {},
   "source": [
    "## graficación de comparativa"
   ]
  },
  {
   "cell_type": "code",
   "execution_count": 71,
   "metadata": {},
   "outputs": [],
   "source": [
    "# Grafica que relaciona los resulatdos de los ganadores obtenidos\n",
    "# en distintas muestras \n",
    "# df= arreglo de data frames a comparar\n",
    "# name= el nombre con el que se guarda la exportacion de la imagen resultante\n",
    "def graficar_ganadores(df_ar,name=\"Resultados\"):\n",
    "    caras=[]\n",
    "    sellos=[]\n",
    "    for df in df_ar:\n",
    "        caras.append(len(df)-df[\"gana\"].sum())\n",
    "        sellos.append(df[\"gana\"].sum())\n",
    "    \n",
    "    data={\"Jorge(cara)\":caras,\"Pedro(sello)\":sellos}\n",
    "    datos=pd.DataFrame(data=data,index=[\"50\",\"100\",\"150\"])\n",
    "    datos.plot(kind='bar',stacked=False,title=\"Ganadores\")\n",
    "    \n",
    "    plt.savefig(name+\".png\")\n",
    "    plt.show()\n",
    "\n",
    "    return datos\n",
    "\n",
    "\n",
    "\n",
    "\n"
   ]
  },
  {
   "cell_type": "markdown",
   "metadata": {},
   "source": [
    "## Resultados con probabilidad 50-50\n",
    "\n"
   ]
  },
  {
   "cell_type": "markdown",
   "metadata": {},
   "source": [
    "Resultado de los tratados con poblacion 50 y distribución uniforme(50-50)"
   ]
  },
  {
   "cell_type": "code",
   "execution_count": 72,
   "metadata": {},
   "outputs": [
    {
     "data": {
      "text/html": [
       "<div>\n",
       "<style scoped>\n",
       "    .dataframe tbody tr th:only-of-type {\n",
       "        vertical-align: middle;\n",
       "    }\n",
       "\n",
       "    .dataframe tbody tr th {\n",
       "        vertical-align: top;\n",
       "    }\n",
       "\n",
       "    .dataframe thead th {\n",
       "        text-align: right;\n",
       "    }\n",
       "</style>\n",
       "<table border=\"1\" class=\"dataframe\">\n",
       "  <thead>\n",
       "    <tr style=\"text-align: right;\">\n",
       "      <th></th>\n",
       "      <th>tratado1</th>\n",
       "      <th>tratado2</th>\n",
       "      <th>tratado3</th>\n",
       "    </tr>\n",
       "  </thead>\n",
       "  <tbody>\n",
       "    <tr>\n",
       "      <th>sello</th>\n",
       "      <td>32</td>\n",
       "      <td>26</td>\n",
       "      <td>19</td>\n",
       "    </tr>\n",
       "    <tr>\n",
       "      <th>cara</th>\n",
       "      <td>18</td>\n",
       "      <td>24</td>\n",
       "      <td>31</td>\n",
       "    </tr>\n",
       "  </tbody>\n",
       "</table>\n",
       "</div>"
      ],
      "text/plain": [
       "       tratado1  tratado2  tratado3\n",
       "sello        32        26        19\n",
       "cara         18        24        31"
      ]
     },
     "execution_count": 72,
     "metadata": {},
     "output_type": "execute_result"
    }
   ],
   "source": [
    "contar(poblacion_50,datos_uni50)"
   ]
  },
  {
   "cell_type": "markdown",
   "metadata": {},
   "source": [
    "Resultados con los tratados con poblacion 100 y distribución uniforme(50-50)"
   ]
  },
  {
   "cell_type": "code",
   "execution_count": 73,
   "metadata": {},
   "outputs": [
    {
     "data": {
      "text/html": [
       "<div>\n",
       "<style scoped>\n",
       "    .dataframe tbody tr th:only-of-type {\n",
       "        vertical-align: middle;\n",
       "    }\n",
       "\n",
       "    .dataframe tbody tr th {\n",
       "        vertical-align: top;\n",
       "    }\n",
       "\n",
       "    .dataframe thead th {\n",
       "        text-align: right;\n",
       "    }\n",
       "</style>\n",
       "<table border=\"1\" class=\"dataframe\">\n",
       "  <thead>\n",
       "    <tr style=\"text-align: right;\">\n",
       "      <th></th>\n",
       "      <th>tratado1</th>\n",
       "      <th>tratado2</th>\n",
       "      <th>tratado3</th>\n",
       "    </tr>\n",
       "  </thead>\n",
       "  <tbody>\n",
       "    <tr>\n",
       "      <th>sello</th>\n",
       "      <td>51</td>\n",
       "      <td>53</td>\n",
       "      <td>47</td>\n",
       "    </tr>\n",
       "    <tr>\n",
       "      <th>cara</th>\n",
       "      <td>49</td>\n",
       "      <td>47</td>\n",
       "      <td>53</td>\n",
       "    </tr>\n",
       "  </tbody>\n",
       "</table>\n",
       "</div>"
      ],
      "text/plain": [
       "       tratado1  tratado2  tratado3\n",
       "sello        51        53        47\n",
       "cara         49        47        53"
      ]
     },
     "execution_count": 73,
     "metadata": {},
     "output_type": "execute_result"
    }
   ],
   "source": [
    "contar(poblacion_100,datos_uni100)"
   ]
  },
  {
   "cell_type": "markdown",
   "metadata": {},
   "source": [
    "Resultados con los tratados con poblacion 150 y distribución uniforme(50-50)"
   ]
  },
  {
   "cell_type": "code",
   "execution_count": 74,
   "metadata": {},
   "outputs": [
    {
     "data": {
      "text/html": [
       "<div>\n",
       "<style scoped>\n",
       "    .dataframe tbody tr th:only-of-type {\n",
       "        vertical-align: middle;\n",
       "    }\n",
       "\n",
       "    .dataframe tbody tr th {\n",
       "        vertical-align: top;\n",
       "    }\n",
       "\n",
       "    .dataframe thead th {\n",
       "        text-align: right;\n",
       "    }\n",
       "</style>\n",
       "<table border=\"1\" class=\"dataframe\">\n",
       "  <thead>\n",
       "    <tr style=\"text-align: right;\">\n",
       "      <th></th>\n",
       "      <th>tratado1</th>\n",
       "      <th>tratado2</th>\n",
       "      <th>tratado3</th>\n",
       "    </tr>\n",
       "  </thead>\n",
       "  <tbody>\n",
       "    <tr>\n",
       "      <th>sello</th>\n",
       "      <td>75</td>\n",
       "      <td>69</td>\n",
       "      <td>94</td>\n",
       "    </tr>\n",
       "    <tr>\n",
       "      <th>cara</th>\n",
       "      <td>75</td>\n",
       "      <td>81</td>\n",
       "      <td>56</td>\n",
       "    </tr>\n",
       "  </tbody>\n",
       "</table>\n",
       "</div>"
      ],
      "text/plain": [
       "       tratado1  tratado2  tratado3\n",
       "sello        75        69        94\n",
       "cara         75        81        56"
      ]
     },
     "execution_count": 74,
     "metadata": {},
     "output_type": "execute_result"
    }
   ],
   "source": [
    "contar(poblacion_150,datos_uni150)"
   ]
  },
  {
   "cell_type": "markdown",
   "metadata": {},
   "source": [
    "Resultados de gráficas de ploteo de ganadores "
   ]
  },
  {
   "cell_type": "code",
   "execution_count": 75,
   "metadata": {},
   "outputs": [
    {
     "data": {
      "image/png": "[encoded data removed]",
      "text/plain": [
       "<Figure size 432x288 with 1 Axes>"
      ]
     },
     "metadata": {
      "needs_background": "light"
     },
     "output_type": "display_data"
    },
    {
     "data": {
      "text/html": [
       "<div>\n",
       "<style scoped>\n",
       "    .dataframe tbody tr th:only-of-type {\n",
       "        vertical-align: middle;\n",
       "    }\n",
       "\n",
       "    .dataframe tbody tr th {\n",
       "        vertical-align: top;\n",
       "    }\n",
       "\n",
       "    .dataframe thead th {\n",
       "        text-align: right;\n",
       "    }\n",
       "</style>\n",
       "<table border=\"1\" class=\"dataframe\">\n",
       "  <thead>\n",
       "    <tr style=\"text-align: right;\">\n",
       "      <th></th>\n",
       "      <th>Jorge(cara)</th>\n",
       "      <th>Pedro(sello)</th>\n",
       "    </tr>\n",
       "  </thead>\n",
       "  <tbody>\n",
       "    <tr>\n",
       "      <th>50</th>\n",
       "      <td>25</td>\n",
       "      <td>25</td>\n",
       "    </tr>\n",
       "    <tr>\n",
       "      <th>100</th>\n",
       "      <td>49</td>\n",
       "      <td>51</td>\n",
       "    </tr>\n",
       "    <tr>\n",
       "      <th>150</th>\n",
       "      <td>71</td>\n",
       "      <td>79</td>\n",
       "    </tr>\n",
       "  </tbody>\n",
       "</table>\n",
       "</div>"
      ],
      "text/plain": [
       "     Jorge(cara)  Pedro(sello)\n",
       "50            25            25\n",
       "100           49            51\n",
       "150           71            79"
      ]
     },
     "execution_count": 75,
     "metadata": {},
     "output_type": "execute_result"
    }
   ],
   "source": [
    "gandores50=graficar_ganadores([datos_uni50,datos_uni100,datos_uni150],\"Ganadores uniforme\")\n",
    "gandores50"
   ]
  },
  {
   "cell_type": "markdown",
   "metadata": {},
   "source": [
    "## Resultados con probabilidad 70-30\n",
    "\n"
   ]
  },
  {
   "cell_type": "markdown",
   "metadata": {},
   "source": [
    "Resultado de los tratados con poblacion 50 y distribución uniforme(70-30)"
   ]
  },
  {
   "cell_type": "code",
   "execution_count": 76,
   "metadata": {},
   "outputs": [
    {
     "data": {
      "text/html": [
       "<div>\n",
       "<style scoped>\n",
       "    .dataframe tbody tr th:only-of-type {\n",
       "        vertical-align: middle;\n",
       "    }\n",
       "\n",
       "    .dataframe tbody tr th {\n",
       "        vertical-align: top;\n",
       "    }\n",
       "\n",
       "    .dataframe thead th {\n",
       "        text-align: right;\n",
       "    }\n",
       "</style>\n",
       "<table border=\"1\" class=\"dataframe\">\n",
       "  <thead>\n",
       "    <tr style=\"text-align: right;\">\n",
       "      <th></th>\n",
       "      <th>tratado1</th>\n",
       "      <th>tratado2</th>\n",
       "      <th>tratado3</th>\n",
       "    </tr>\n",
       "  </thead>\n",
       "  <tbody>\n",
       "    <tr>\n",
       "      <th>sello</th>\n",
       "      <td>11</td>\n",
       "      <td>18</td>\n",
       "      <td>13</td>\n",
       "    </tr>\n",
       "    <tr>\n",
       "      <th>cara</th>\n",
       "      <td>39</td>\n",
       "      <td>32</td>\n",
       "      <td>37</td>\n",
       "    </tr>\n",
       "  </tbody>\n",
       "</table>\n",
       "</div>"
      ],
      "text/plain": [
       "       tratado1  tratado2  tratado3\n",
       "sello        11        18        13\n",
       "cara         39        32        37"
      ]
     },
     "execution_count": 76,
     "metadata": {},
     "output_type": "execute_result"
    }
   ],
   "source": [
    "contar(poblacion_50,datos50)"
   ]
  },
  {
   "cell_type": "markdown",
   "metadata": {},
   "source": [
    "Resultado de los tratados con poblacion 100 y distribución uniforme(70-30)"
   ]
  },
  {
   "cell_type": "code",
   "execution_count": 77,
   "metadata": {},
   "outputs": [
    {
     "data": {
      "text/html": [
       "<div>\n",
       "<style scoped>\n",
       "    .dataframe tbody tr th:only-of-type {\n",
       "        vertical-align: middle;\n",
       "    }\n",
       "\n",
       "    .dataframe tbody tr th {\n",
       "        vertical-align: top;\n",
       "    }\n",
       "\n",
       "    .dataframe thead th {\n",
       "        text-align: right;\n",
       "    }\n",
       "</style>\n",
       "<table border=\"1\" class=\"dataframe\">\n",
       "  <thead>\n",
       "    <tr style=\"text-align: right;\">\n",
       "      <th></th>\n",
       "      <th>tratado1</th>\n",
       "      <th>tratado2</th>\n",
       "      <th>tratado3</th>\n",
       "    </tr>\n",
       "  </thead>\n",
       "  <tbody>\n",
       "    <tr>\n",
       "      <th>sello</th>\n",
       "      <td>32</td>\n",
       "      <td>25</td>\n",
       "      <td>33</td>\n",
       "    </tr>\n",
       "    <tr>\n",
       "      <th>cara</th>\n",
       "      <td>68</td>\n",
       "      <td>75</td>\n",
       "      <td>67</td>\n",
       "    </tr>\n",
       "  </tbody>\n",
       "</table>\n",
       "</div>"
      ],
      "text/plain": [
       "       tratado1  tratado2  tratado3\n",
       "sello        32        25        33\n",
       "cara         68        75        67"
      ]
     },
     "execution_count": 77,
     "metadata": {},
     "output_type": "execute_result"
    }
   ],
   "source": [
    "contar(poblacion_100,datos100)"
   ]
  },
  {
   "cell_type": "markdown",
   "metadata": {},
   "source": [
    "Resultado de los tratados con poblacion 150 y distribución uniforme(70-30)"
   ]
  },
  {
   "cell_type": "code",
   "execution_count": 78,
   "metadata": {},
   "outputs": [
    {
     "data": {
      "text/html": [
       "<div>\n",
       "<style scoped>\n",
       "    .dataframe tbody tr th:only-of-type {\n",
       "        vertical-align: middle;\n",
       "    }\n",
       "\n",
       "    .dataframe tbody tr th {\n",
       "        vertical-align: top;\n",
       "    }\n",
       "\n",
       "    .dataframe thead th {\n",
       "        text-align: right;\n",
       "    }\n",
       "</style>\n",
       "<table border=\"1\" class=\"dataframe\">\n",
       "  <thead>\n",
       "    <tr style=\"text-align: right;\">\n",
       "      <th></th>\n",
       "      <th>tratado1</th>\n",
       "      <th>tratado2</th>\n",
       "      <th>tratado3</th>\n",
       "    </tr>\n",
       "  </thead>\n",
       "  <tbody>\n",
       "    <tr>\n",
       "      <th>sello</th>\n",
       "      <td>45</td>\n",
       "      <td>41</td>\n",
       "      <td>50</td>\n",
       "    </tr>\n",
       "    <tr>\n",
       "      <th>cara</th>\n",
       "      <td>105</td>\n",
       "      <td>109</td>\n",
       "      <td>100</td>\n",
       "    </tr>\n",
       "  </tbody>\n",
       "</table>\n",
       "</div>"
      ],
      "text/plain": [
       "       tratado1  tratado2  tratado3\n",
       "sello        45        41        50\n",
       "cara        105       109       100"
      ]
     },
     "execution_count": 78,
     "metadata": {},
     "output_type": "execute_result"
    }
   ],
   "source": [
    "contar(poblacion_150,datos150)"
   ]
  },
  {
   "cell_type": "markdown",
   "metadata": {},
   "source": [
    "resultado de comparativa de los gráficos de ganadores"
   ]
  },
  {
   "cell_type": "code",
   "execution_count": 79,
   "metadata": {},
   "outputs": [
    {
     "data": {
      "image/png": "[encoded data removed]",
      "text/plain": [
       "<Figure size 432x288 with 1 Axes>"
      ]
     },
     "metadata": {
      "needs_background": "light"
     },
     "output_type": "display_data"
    },
    {
     "data": {
      "text/html": [
       "<div>\n",
       "<style scoped>\n",
       "    .dataframe tbody tr th:only-of-type {\n",
       "        vertical-align: middle;\n",
       "    }\n",
       "\n",
       "    .dataframe tbody tr th {\n",
       "        vertical-align: top;\n",
       "    }\n",
       "\n",
       "    .dataframe thead th {\n",
       "        text-align: right;\n",
       "    }\n",
       "</style>\n",
       "<table border=\"1\" class=\"dataframe\">\n",
       "  <thead>\n",
       "    <tr style=\"text-align: right;\">\n",
       "      <th></th>\n",
       "      <th>Jorge(cara)</th>\n",
       "      <th>Pedro(sello)</th>\n",
       "    </tr>\n",
       "  </thead>\n",
       "  <tbody>\n",
       "    <tr>\n",
       "      <th>50</th>\n",
       "      <td>39</td>\n",
       "      <td>11</td>\n",
       "    </tr>\n",
       "    <tr>\n",
       "      <th>100</th>\n",
       "      <td>79</td>\n",
       "      <td>21</td>\n",
       "    </tr>\n",
       "    <tr>\n",
       "      <th>150</th>\n",
       "      <td>116</td>\n",
       "      <td>34</td>\n",
       "    </tr>\n",
       "  </tbody>\n",
       "</table>\n",
       "</div>"
      ],
      "text/plain": [
       "     Jorge(cara)  Pedro(sello)\n",
       "50            39            11\n",
       "100           79            21\n",
       "150          116            34"
      ]
     },
     "execution_count": 79,
     "metadata": {},
     "output_type": "execute_result"
    }
   ],
   "source": [
    "gandores70=graficar_ganadores([datos50,datos100,datos150],\"Ganadores no uniforme\")\n",
    "gandores70"
   ]
  },
  {
   "cell_type": "code",
   "execution_count": null,
   "metadata": {},
   "outputs": [],
   "source": []
  }
 ],
 "metadata": {
  "kernelspec": {
   "display_name": "Python 3",
   "language": "python",
   "name": "python3"
  },
  "language_info": {
   "codemirror_mode": {
    "name": "ipython",
    "version": 3
   },
   "file_extension": ".py",
   "mimetype": "text/x-python",
   "name": "python",
   "nbconvert_exporter": "python",
   "pygments_lexer": "ipython3",
   "version": "3.7.6"
  }
 },
 "nbformat": 4,
 "nbformat_minor": 4
}
